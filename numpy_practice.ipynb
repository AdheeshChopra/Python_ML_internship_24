{
 "cells": [
  {
   "cell_type": "code",
   "execution_count": 2,
   "id": "98b35b7a-910b-4719-82bb-bb8034c4270f",
   "metadata": {},
   "outputs": [],
   "source": [
    "import numpy as np"
   ]
  },
  {
   "cell_type": "code",
   "execution_count": 3,
   "id": "ab2133bd-4bd0-4c58-b9f7-4e87c4e9c343",
   "metadata": {},
   "outputs": [],
   "source": [
    "arr = np.array([1,2,3,4,5])"
   ]
  },
  {
   "cell_type": "code",
   "execution_count": 4,
   "id": "afe69de9-7cda-43ff-ada0-cbec8479a9db",
   "metadata": {},
   "outputs": [
    {
     "data": {
      "text/plain": [
       "array([1, 2, 3, 4, 5])"
      ]
     },
     "execution_count": 4,
     "metadata": {},
     "output_type": "execute_result"
    }
   ],
   "source": [
    "arr"
   ]
  },
  {
   "cell_type": "code",
   "execution_count": 5,
   "id": "9da73058-9ce2-4ddb-bbcd-cb415f297750",
   "metadata": {},
   "outputs": [
    {
     "name": "stdout",
     "output_type": "stream",
     "text": [
      "int64\n"
     ]
    }
   ],
   "source": [
    "print(arr.dtype)"
   ]
  },
  {
   "cell_type": "code",
   "execution_count": 6,
   "id": "e499b449-ad54-4152-b6ef-fea86440893f",
   "metadata": {},
   "outputs": [],
   "source": [
    "arr2 = np.array([1,2,3,4,5], dtype = np.int16)"
   ]
  },
  {
   "cell_type": "code",
   "execution_count": 7,
   "id": "5ff391a5-5f09-463f-9be0-dc1e8cb45bf2",
   "metadata": {},
   "outputs": [
    {
     "data": {
      "text/plain": [
       "array([1, 2, 3, 4, 5], dtype=int16)"
      ]
     },
     "execution_count": 7,
     "metadata": {},
     "output_type": "execute_result"
    }
   ],
   "source": [
    "arr2"
   ]
  },
  {
   "cell_type": "code",
   "execution_count": 8,
   "id": "de6ed223-3b66-4f77-a6ea-069f6970dc7d",
   "metadata": {},
   "outputs": [],
   "source": [
    "Z = np.zeros(5)"
   ]
  },
  {
   "cell_type": "code",
   "execution_count": 9,
   "id": "1ef6267a-ca61-4ea8-b8e5-2003780ee519",
   "metadata": {},
   "outputs": [
    {
     "data": {
      "text/plain": [
       "array([0., 0., 0., 0., 0.])"
      ]
     },
     "execution_count": 9,
     "metadata": {},
     "output_type": "execute_result"
    }
   ],
   "source": [
    "Z"
   ]
  },
  {
   "cell_type": "code",
   "execution_count": 10,
   "id": "c17409c1-f8c6-490c-83fd-17c2c1f3f239",
   "metadata": {},
   "outputs": [],
   "source": [
    "ar = np.arange(0,10,1)"
   ]
  },
  {
   "cell_type": "code",
   "execution_count": 11,
   "id": "a072708b-891b-4761-8441-5464f3770bf0",
   "metadata": {},
   "outputs": [
    {
     "data": {
      "text/plain": [
       "array([0, 1, 2, 3, 4, 5, 6, 7, 8, 9])"
      ]
     },
     "execution_count": 11,
     "metadata": {},
     "output_type": "execute_result"
    }
   ],
   "source": [
    "ar"
   ]
  },
  {
   "cell_type": "code",
   "execution_count": 12,
   "id": "63e26709-9bf8-42f1-b22b-8d008b161fb5",
   "metadata": {},
   "outputs": [],
   "source": [
    "ran = np.random.rand(4)"
   ]
  },
  {
   "cell_type": "code",
   "execution_count": 13,
   "id": "b9ede6e1-f8d7-4863-bb33-22f1706fbf6f",
   "metadata": {},
   "outputs": [
    {
     "data": {
      "text/plain": [
       "array([0.63406802, 0.46643897, 0.71405534, 0.04834364])"
      ]
     },
     "execution_count": 13,
     "metadata": {},
     "output_type": "execute_result"
    }
   ],
   "source": [
    "ran"
   ]
  },
  {
   "cell_type": "code",
   "execution_count": 15,
   "id": "6d568707-09c2-4319-aeac-d105e1914f6c",
   "metadata": {},
   "outputs": [
    {
     "data": {
      "text/plain": [
       "array([  0.        ,  11.11111111,  22.22222222,  33.33333333,\n",
       "        44.44444444,  55.55555556,  66.66666667,  77.77777778,\n",
       "        88.88888889, 100.        ])"
      ]
     },
     "execution_count": 15,
     "metadata": {},
     "output_type": "execute_result"
    }
   ],
   "source": [
    "ln = np.linspace(0,100,10)\n",
    "ln"
   ]
  },
  {
   "cell_type": "markdown",
   "id": "a3ae692c-7472-42f0-9904-1f528ee4c833",
   "metadata": {},
   "source": [
    "2D array"
   ]
  },
  {
   "cell_type": "code",
   "execution_count": 16,
   "id": "65de7aed-b0f8-4cec-8756-67d78cb72f2e",
   "metadata": {},
   "outputs": [],
   "source": [
    "ar2 = np.array([[1,2,3],[4,5,6],[7,8,9]])"
   ]
  },
  {
   "cell_type": "code",
   "execution_count": 18,
   "id": "bb127fd7-ac87-47cb-905b-6e58fd226ccd",
   "metadata": {},
   "outputs": [
    {
     "data": {
      "text/plain": [
       "array([[1, 2, 3],\n",
       "       [4, 5, 6],\n",
       "       [7, 8, 9]])"
      ]
     },
     "execution_count": 18,
     "metadata": {},
     "output_type": "execute_result"
    }
   ],
   "source": [
    "ar2"
   ]
  },
  {
   "cell_type": "code",
   "execution_count": 19,
   "id": "53779f22-59c3-4068-a29c-73a32eb4180f",
   "metadata": {},
   "outputs": [
    {
     "data": {
      "text/plain": [
       "array([[1., 1., 1., 1., 1.],\n",
       "       [1., 1., 1., 1., 1.],\n",
       "       [1., 1., 1., 1., 1.],\n",
       "       [1., 1., 1., 1., 1.],\n",
       "       [1., 1., 1., 1., 1.]])"
      ]
     },
     "execution_count": 19,
     "metadata": {},
     "output_type": "execute_result"
    }
   ],
   "source": [
    "o1 = np.ones([5,5])\n",
    "o1"
   ]
  },
  {
   "cell_type": "code",
   "execution_count": 20,
   "id": "8af3e4a6-606e-404e-b8f8-77ab68ae2d99",
   "metadata": {},
   "outputs": [],
   "source": [
    "I = np.eye(5)"
   ]
  },
  {
   "cell_type": "code",
   "execution_count": 21,
   "id": "91b1bd90-4b81-4946-ad69-c737c409e8ad",
   "metadata": {},
   "outputs": [
    {
     "data": {
      "text/plain": [
       "array([[1., 0., 0., 0., 0.],\n",
       "       [0., 1., 0., 0., 0.],\n",
       "       [0., 0., 1., 0., 0.],\n",
       "       [0., 0., 0., 1., 0.],\n",
       "       [0., 0., 0., 0., 1.]])"
      ]
     },
     "execution_count": 21,
     "metadata": {},
     "output_type": "execute_result"
    }
   ],
   "source": [
    "I"
   ]
  },
  {
   "cell_type": "code",
   "execution_count": 22,
   "id": "72be3838-f299-417b-bf38-e45141b589b2",
   "metadata": {},
   "outputs": [
    {
     "data": {
      "text/plain": [
       "array([[0.19952083, 0.15980892, 0.64805532, 0.1163615 , 0.02273976],\n",
       "       [0.48844385, 0.6980858 , 0.00445205, 0.35036829, 0.9565512 ],\n",
       "       [0.1761529 , 0.42036093, 0.79888505, 0.22638571, 0.84620282],\n",
       "       [0.3158455 , 0.23031958, 0.28472617, 0.37080603, 0.57250772]])"
      ]
     },
     "execution_count": 22,
     "metadata": {},
     "output_type": "execute_result"
    }
   ],
   "source": [
    "r1 = np.random.rand(4,5)\n",
    "r1"
   ]
  },
  {
   "cell_type": "code",
   "execution_count": 25,
   "id": "71fc34bd-b935-4a98-bc32-a79796af5557",
   "metadata": {},
   "outputs": [
    {
     "data": {
      "text/plain": [
       "array([0, 1, 2, 3, 4, 5, 6, 7, 8, 9])"
      ]
     },
     "execution_count": 25,
     "metadata": {},
     "output_type": "execute_result"
    }
   ],
   "source": [
    "ar"
   ]
  },
  {
   "cell_type": "code",
   "execution_count": 26,
   "id": "5dd515b1-8340-4c41-848c-1e7ad2d7c0ac",
   "metadata": {},
   "outputs": [
    {
     "data": {
      "text/plain": [
       "array([[1, 2, 3],\n",
       "       [4, 5, 6],\n",
       "       [7, 8, 9]])"
      ]
     },
     "execution_count": 26,
     "metadata": {},
     "output_type": "execute_result"
    }
   ],
   "source": [
    "ar2"
   ]
  },
  {
   "cell_type": "code",
   "execution_count": 27,
   "id": "39dfcc72-c609-4c95-9ecd-467d4e1711f4",
   "metadata": {},
   "outputs": [
    {
     "name": "stdout",
     "output_type": "stream",
     "text": [
      "10\n"
     ]
    }
   ],
   "source": [
    "print(ar.size)"
   ]
  },
  {
   "cell_type": "code",
   "execution_count": 28,
   "id": "2846bd62-b776-4bdb-93bb-f7f055b25408",
   "metadata": {},
   "outputs": [
    {
     "name": "stdout",
     "output_type": "stream",
     "text": [
      "9\n"
     ]
    }
   ],
   "source": [
    "print(ar2.size)"
   ]
  },
  {
   "cell_type": "code",
   "execution_count": 29,
   "id": "0529b23d-4338-4cb4-a572-26f35e20d5d4",
   "metadata": {},
   "outputs": [
    {
     "name": "stdout",
     "output_type": "stream",
     "text": [
      "(3, 3)\n"
     ]
    }
   ],
   "source": [
    "print(ar2.shape)"
   ]
  },
  {
   "cell_type": "code",
   "execution_count": 30,
   "id": "9c4ff2ec-e965-497f-8026-4d0c59a304eb",
   "metadata": {},
   "outputs": [
    {
     "name": "stdout",
     "output_type": "stream",
     "text": [
      "int64\n"
     ]
    }
   ],
   "source": [
    "print(ar.dtype)"
   ]
  },
  {
   "cell_type": "code",
   "execution_count": 31,
   "id": "eca3c056-455e-447e-8028-10cb71880fe7",
   "metadata": {},
   "outputs": [
    {
     "name": "stdout",
     "output_type": "stream",
     "text": [
      "int64\n"
     ]
    }
   ],
   "source": [
    "print(ar2.dtype)"
   ]
  },
  {
   "cell_type": "markdown",
   "id": "1c8a0a10-0e3c-4b4c-befb-d09a41e2a3c4",
   "metadata": {},
   "source": [
    "# Operations in Array\n",
    "**copy**\n",
    "**sort**\n",
    "**reshape**"
   ]
  },
  {
   "cell_type": "code",
   "execution_count": 33,
   "id": "057c5e97-1982-4a64-a697-25845ca67ee6",
   "metadata": {},
   "outputs": [
    {
     "data": {
      "text/plain": [
       "array([[1, 2, 3],\n",
       "       [4, 5, 6],\n",
       "       [7, 8, 9]])"
      ]
     },
     "execution_count": 33,
     "metadata": {},
     "output_type": "execute_result"
    }
   ],
   "source": [
    "ar3 = np.copy(ar2)\n",
    "ar3"
   ]
  },
  {
   "cell_type": "code",
   "execution_count": 34,
   "id": "a0ae63c2-0eb4-4c81-b0f3-5307390dc29c",
   "metadata": {},
   "outputs": [],
   "source": [
    "ar3[2,2] = 10"
   ]
  },
  {
   "cell_type": "code",
   "execution_count": 35,
   "id": "105bfc51-bda9-4ff8-b929-d5eb412a3af5",
   "metadata": {},
   "outputs": [
    {
     "data": {
      "text/plain": [
       "array([[ 1,  2,  3],\n",
       "       [ 4,  5,  6],\n",
       "       [ 7,  8, 10]])"
      ]
     },
     "execution_count": 35,
     "metadata": {},
     "output_type": "execute_result"
    }
   ],
   "source": [
    "ar3"
   ]
  },
  {
   "cell_type": "code",
   "execution_count": 36,
   "id": "fe5d3092-a5ec-4a8e-a76c-b8eba91745a1",
   "metadata": {},
   "outputs": [],
   "source": [
    "ar3[1,2]=12\n",
    "ar3[0,1]=15"
   ]
  },
  {
   "cell_type": "code",
   "execution_count": 37,
   "id": "5505ea3c-e6e9-46fe-b3c4-ec0cd87cd029",
   "metadata": {},
   "outputs": [
    {
     "data": {
      "text/plain": [
       "array([[ 1, 15,  3],\n",
       "       [ 4,  5, 12],\n",
       "       [ 7,  8, 10]])"
      ]
     },
     "execution_count": 37,
     "metadata": {},
     "output_type": "execute_result"
    }
   ],
   "source": [
    "ar3"
   ]
  },
  {
   "cell_type": "code",
   "execution_count": 38,
   "id": "6bbe0e6f-4f01-4c2f-96d4-67794b008f5d",
   "metadata": {},
   "outputs": [
    {
     "data": {
      "text/plain": [
       "array([[ 1,  3, 15],\n",
       "       [ 4,  5, 12],\n",
       "       [ 7,  8, 10]])"
      ]
     },
     "execution_count": 38,
     "metadata": {},
     "output_type": "execute_result"
    }
   ],
   "source": [
    "ar3 = np.sort(ar3)\n",
    "ar3"
   ]
  },
  {
   "cell_type": "code",
   "execution_count": 39,
   "id": "6baba3e9-0b00-4261-ba31-b4eae213d6e4",
   "metadata": {},
   "outputs": [],
   "source": [
    "ar3 = np.sort(ar3, axis = 0)"
   ]
  },
  {
   "cell_type": "code",
   "execution_count": 40,
   "id": "ce296f6e-e434-4455-8da0-2f634ea28463",
   "metadata": {},
   "outputs": [
    {
     "data": {
      "text/plain": [
       "array([[ 1,  3, 10],\n",
       "       [ 4,  5, 12],\n",
       "       [ 7,  8, 15]])"
      ]
     },
     "execution_count": 40,
     "metadata": {},
     "output_type": "execute_result"
    }
   ],
   "source": [
    "ar3"
   ]
  },
  {
   "cell_type": "code",
   "execution_count": 41,
   "id": "4170a372-c8ed-42eb-83eb-c26b604731d4",
   "metadata": {},
   "outputs": [
    {
     "data": {
      "text/plain": [
       "np.int64(65)"
      ]
     },
     "execution_count": 41,
     "metadata": {},
     "output_type": "execute_result"
    }
   ],
   "source": [
    "ar3.sum()"
   ]
  },
  {
   "cell_type": "code",
   "execution_count": 42,
   "id": "e8d772a5-d950-4bca-97ab-c2b5963dc2bc",
   "metadata": {},
   "outputs": [
    {
     "data": {
      "text/plain": [
       "array([12, 16, 37])"
      ]
     },
     "execution_count": 42,
     "metadata": {},
     "output_type": "execute_result"
    }
   ],
   "source": [
    "ar3.sum(axis = 0)"
   ]
  },
  {
   "cell_type": "code",
   "execution_count": 43,
   "id": "15604604-e8d9-462e-b724-a766aba5c8c3",
   "metadata": {},
   "outputs": [
    {
     "data": {
      "text/plain": [
       "array([14, 21, 30])"
      ]
     },
     "execution_count": 43,
     "metadata": {},
     "output_type": "execute_result"
    }
   ],
   "source": [
    "ar3.sum(axis = 1)"
   ]
  },
  {
   "cell_type": "code",
   "execution_count": 44,
   "id": "27997541-8392-4386-86b4-7cb95b022e5b",
   "metadata": {},
   "outputs": [
    {
     "data": {
      "text/plain": [
       "array([0.10345563, 0.83235964, 0.94866103, 0.07266879, 0.63486583,\n",
       "       0.84751883, 0.41453195, 0.91706318, 0.71476859, 0.34237763,\n",
       "       0.12386451, 0.34491462, 0.26796568, 0.83750151, 0.94032285,\n",
       "       0.43018272, 0.0619767 , 0.05667558, 0.58267271, 0.44279614,\n",
       "       0.07686643, 0.64582787, 0.11113684, 0.02603767, 0.27075705,\n",
       "       0.87174884, 0.40980657, 0.76995656, 0.58746358, 0.13677511,\n",
       "       0.16087258, 0.21464211, 0.16598783, 0.20702286, 0.10042326,\n",
       "       0.42500617, 0.24387446, 0.26646999, 0.16921348, 0.25394294,\n",
       "       0.2615197 , 0.09767996, 0.14012996, 0.15233581, 0.48524449,\n",
       "       0.06470757, 0.69659254, 0.24328229, 0.07468516, 0.66048012,\n",
       "       0.27729139, 0.62772425, 0.87221268, 0.64634302, 0.45921902,\n",
       "       0.23533342, 0.16591949, 0.12988076, 0.43618257, 0.88303783,\n",
       "       0.05181589, 0.42804037, 0.97980225, 0.07721419, 0.46520519,\n",
       "       0.7867693 , 0.30421489, 0.78451758, 0.54465292, 0.56805028,\n",
       "       0.69920294, 0.71077786, 0.52702627, 0.20436158, 0.13051909,\n",
       "       0.3565872 , 0.57354563, 0.42574312, 0.36215351, 0.68087865,\n",
       "       0.66005871, 0.97066894, 0.5350538 , 0.1636326 , 0.09394046,\n",
       "       0.60996513, 0.03579405, 0.56067222, 0.81340131, 0.72512823,\n",
       "       0.61297309, 0.16526543, 0.32329993, 0.96340471, 0.0435083 ,\n",
       "       0.46800334, 0.48472729, 0.91555012, 0.11101004])"
      ]
     },
     "execution_count": 44,
     "metadata": {},
     "output_type": "execute_result"
    }
   ],
   "source": [
    "ar4 = np.random.rand(99)\n",
    "ar4"
   ]
  },
  {
   "cell_type": "code",
   "execution_count": 45,
   "id": "e117de29-1f78-4503-a892-b5db495928df",
   "metadata": {},
   "outputs": [
    {
     "data": {
      "text/plain": [
       "99"
      ]
     },
     "execution_count": 45,
     "metadata": {},
     "output_type": "execute_result"
    }
   ],
   "source": [
    "ar4.size"
   ]
  },
  {
   "cell_type": "code",
   "execution_count": 46,
   "id": "ce7335ca-0aa6-4264-a6a5-3f4cc81bc158",
   "metadata": {},
   "outputs": [
    {
     "data": {
      "text/plain": [
       "array([[0.10345563, 0.83235964, 0.94866103, 0.07266879, 0.63486583,\n",
       "        0.84751883, 0.41453195, 0.91706318, 0.71476859],\n",
       "       [0.34237763, 0.12386451, 0.34491462, 0.26796568, 0.83750151,\n",
       "        0.94032285, 0.43018272, 0.0619767 , 0.05667558],\n",
       "       [0.58267271, 0.44279614, 0.07686643, 0.64582787, 0.11113684,\n",
       "        0.02603767, 0.27075705, 0.87174884, 0.40980657],\n",
       "       [0.76995656, 0.58746358, 0.13677511, 0.16087258, 0.21464211,\n",
       "        0.16598783, 0.20702286, 0.10042326, 0.42500617],\n",
       "       [0.24387446, 0.26646999, 0.16921348, 0.25394294, 0.2615197 ,\n",
       "        0.09767996, 0.14012996, 0.15233581, 0.48524449],\n",
       "       [0.06470757, 0.69659254, 0.24328229, 0.07468516, 0.66048012,\n",
       "        0.27729139, 0.62772425, 0.87221268, 0.64634302],\n",
       "       [0.45921902, 0.23533342, 0.16591949, 0.12988076, 0.43618257,\n",
       "        0.88303783, 0.05181589, 0.42804037, 0.97980225],\n",
       "       [0.07721419, 0.46520519, 0.7867693 , 0.30421489, 0.78451758,\n",
       "        0.54465292, 0.56805028, 0.69920294, 0.71077786],\n",
       "       [0.52702627, 0.20436158, 0.13051909, 0.3565872 , 0.57354563,\n",
       "        0.42574312, 0.36215351, 0.68087865, 0.66005871],\n",
       "       [0.97066894, 0.5350538 , 0.1636326 , 0.09394046, 0.60996513,\n",
       "        0.03579405, 0.56067222, 0.81340131, 0.72512823],\n",
       "       [0.61297309, 0.16526543, 0.32329993, 0.96340471, 0.0435083 ,\n",
       "        0.46800334, 0.48472729, 0.91555012, 0.11101004]])"
      ]
     },
     "execution_count": 46,
     "metadata": {},
     "output_type": "execute_result"
    }
   ],
   "source": [
    "ar4.reshape(11,9)"
   ]
  },
  {
   "cell_type": "code",
   "execution_count": 47,
   "id": "d38e4777-0a91-4961-96dc-f442fc699085",
   "metadata": {},
   "outputs": [
    {
     "data": {
      "text/plain": [
       "99"
      ]
     },
     "execution_count": 47,
     "metadata": {},
     "output_type": "execute_result"
    }
   ],
   "source": [
    "ar4.size"
   ]
  },
  {
   "cell_type": "code",
   "execution_count": 48,
   "id": "9a6c2a3b-8ac1-4467-8c8c-1c159d2df33d",
   "metadata": {},
   "outputs": [
    {
     "data": {
      "text/plain": [
       "(99,)"
      ]
     },
     "execution_count": 48,
     "metadata": {},
     "output_type": "execute_result"
    }
   ],
   "source": [
    "ar4.shape"
   ]
  },
  {
   "cell_type": "code",
   "execution_count": 49,
   "id": "75310b8f-9c07-4c1d-bbc0-7ce9b5835b39",
   "metadata": {},
   "outputs": [
    {
     "data": {
      "text/plain": [
       "array([0, 1, 2, 3, 4, 5, 6, 7, 8, 9])"
      ]
     },
     "execution_count": 49,
     "metadata": {},
     "output_type": "execute_result"
    }
   ],
   "source": [
    "ar"
   ]
  },
  {
   "cell_type": "code",
   "execution_count": 50,
   "id": "fd1edcb3-574c-4f09-921f-fca0d42d0b7d",
   "metadata": {},
   "outputs": [],
   "source": [
    "ar = np.append(ar,10)"
   ]
  },
  {
   "cell_type": "code",
   "execution_count": 51,
   "id": "ca7bc500-ebbe-49ce-9fdc-a8d39b7208a8",
   "metadata": {},
   "outputs": [
    {
     "data": {
      "text/plain": [
       "array([ 0,  1,  2,  3,  4,  5,  6,  7,  8,  9, 10])"
      ]
     },
     "execution_count": 51,
     "metadata": {},
     "output_type": "execute_result"
    }
   ],
   "source": [
    "ar"
   ]
  },
  {
   "cell_type": "code",
   "execution_count": 52,
   "id": "0e4ae9de-14d9-43eb-a50d-7c641658dcc5",
   "metadata": {},
   "outputs": [],
   "source": [
    "ar = np.delete(ar, 6, axis = 0)"
   ]
  },
  {
   "cell_type": "code",
   "execution_count": 53,
   "id": "8ae575d3-a026-4b7f-8350-92056b7fff0c",
   "metadata": {},
   "outputs": [
    {
     "data": {
      "text/plain": [
       "array([ 0,  1,  2,  3,  4,  5,  7,  8,  9, 10])"
      ]
     },
     "execution_count": 53,
     "metadata": {},
     "output_type": "execute_result"
    }
   ],
   "source": [
    "ar"
   ]
  },
  {
   "cell_type": "code",
   "execution_count": 54,
   "id": "13bf2e16-aa95-4a33-b1d9-6a4649d127bf",
   "metadata": {},
   "outputs": [],
   "source": [
    "ar = np.insert(ar, 6, 6)"
   ]
  },
  {
   "cell_type": "code",
   "execution_count": 55,
   "id": "242df986-0f0b-4c84-9719-ad2a8cbe7681",
   "metadata": {},
   "outputs": [
    {
     "data": {
      "text/plain": [
       "array([ 0,  1,  2,  3,  4,  5,  6,  7,  8,  9, 10])"
      ]
     },
     "execution_count": 55,
     "metadata": {},
     "output_type": "execute_result"
    }
   ],
   "source": [
    "ar"
   ]
  },
  {
   "cell_type": "code",
   "execution_count": 56,
   "id": "12a76cec-ae1a-43bb-87a5-70b02d8493c6",
   "metadata": {},
   "outputs": [
    {
     "data": {
      "text/plain": [
       "array([[1, 2, 3],\n",
       "       [4, 5, 6],\n",
       "       [7, 8, 9]])"
      ]
     },
     "execution_count": 56,
     "metadata": {},
     "output_type": "execute_result"
    }
   ],
   "source": [
    "ar2"
   ]
  },
  {
   "cell_type": "code",
   "execution_count": 57,
   "id": "9a8f2e9b-df13-47fe-b88a-7e21c3659498",
   "metadata": {},
   "outputs": [
    {
     "data": {
      "text/plain": [
       "array([[ 1,  3, 10],\n",
       "       [ 4,  5, 12],\n",
       "       [ 7,  8, 15]])"
      ]
     },
     "execution_count": 57,
     "metadata": {},
     "output_type": "execute_result"
    }
   ],
   "source": [
    "ar3"
   ]
  },
  {
   "cell_type": "code",
   "execution_count": 60,
   "id": "97d9ca63-aa9a-4bd2-b9a2-8005c94b0f0e",
   "metadata": {},
   "outputs": [
    {
     "data": {
      "text/plain": [
       "array([[ 1,  2,  3],\n",
       "       [ 4,  5,  6],\n",
       "       [ 7,  8,  9],\n",
       "       [ 1,  3, 10],\n",
       "       [ 4,  5, 12],\n",
       "       [ 7,  8, 15]])"
      ]
     },
     "execution_count": 60,
     "metadata": {},
     "output_type": "execute_result"
    }
   ],
   "source": [
    "ar4 = np.concatenate((ar2,ar3),axis = 0)\n",
    "ar4"
   ]
  },
  {
   "cell_type": "code",
   "execution_count": 62,
   "id": "a428eeab-5420-4c6f-ade5-305d80c11d1f",
   "metadata": {},
   "outputs": [
    {
     "data": {
      "text/plain": [
       "[array([[1, 2, 3],\n",
       "        [4, 5, 6]]),\n",
       " array([[ 7,  8,  9],\n",
       "        [ 1,  3, 10]]),\n",
       " array([[ 4,  5, 12],\n",
       "        [ 7,  8, 15]])]"
      ]
     },
     "execution_count": 62,
     "metadata": {},
     "output_type": "execute_result"
    }
   ],
   "source": [
    "np.split(ar4,3)"
   ]
  },
  {
   "cell_type": "code",
   "execution_count": 63,
   "id": "dc0eab09-534f-4601-aab7-1393b36a1d52",
   "metadata": {},
   "outputs": [],
   "source": [
    "ar5 = np.concatenate((ar2,ar3),axis=1)"
   ]
  },
  {
   "cell_type": "code",
   "execution_count": 64,
   "id": "4b5ae267-f027-4c52-9be2-4d402586d741",
   "metadata": {},
   "outputs": [
    {
     "data": {
      "text/plain": [
       "array([[ 1,  2,  3,  1,  3, 10],\n",
       "       [ 4,  5,  6,  4,  5, 12],\n",
       "       [ 7,  8,  9,  7,  8, 15]])"
      ]
     },
     "execution_count": 64,
     "metadata": {},
     "output_type": "execute_result"
    }
   ],
   "source": [
    "ar5"
   ]
  },
  {
   "cell_type": "code",
   "execution_count": 69,
   "id": "a543e42f-a253-4c4b-b1d0-e4bb9bace612",
   "metadata": {},
   "outputs": [
    {
     "data": {
      "text/plain": [
       "array([[ 6,  7,  8,  6,  8, 15],\n",
       "       [ 9, 10, 11,  9, 10, 17],\n",
       "       [12, 13, 14, 12, 13, 20]])"
      ]
     },
     "execution_count": 69,
     "metadata": {},
     "output_type": "execute_result"
    }
   ],
   "source": [
    "np.add(ar5,5)"
   ]
  },
  {
   "cell_type": "code",
   "execution_count": 71,
   "id": "6856225b-2e72-4e32-b6bb-662644e88057",
   "metadata": {},
   "outputs": [
    {
     "data": {
      "text/plain": [
       "array([[ 0,  1,  2,  0,  2,  9],\n",
       "       [ 3,  4,  5,  3,  4, 11],\n",
       "       [ 6,  7,  8,  6,  7, 14]])"
      ]
     },
     "execution_count": 71,
     "metadata": {},
     "output_type": "execute_result"
    }
   ],
   "source": [
    "np.subtract(ar5,1)"
   ]
  },
  {
   "cell_type": "code",
   "execution_count": 72,
   "id": "c3443965-3b3e-4ff3-b317-e9eefb7b4803",
   "metadata": {},
   "outputs": [
    {
     "data": {
      "text/plain": [
       "array([[ 3,  6,  9,  3,  9, 30],\n",
       "       [12, 15, 18, 12, 15, 36],\n",
       "       [21, 24, 27, 21, 24, 45]])"
      ]
     },
     "execution_count": 72,
     "metadata": {},
     "output_type": "execute_result"
    }
   ],
   "source": [
    "np.multiply(ar5,3)"
   ]
  },
  {
   "cell_type": "code",
   "execution_count": 73,
   "id": "4e2b8bbe-972f-4f2b-b84b-2e84c2b15243",
   "metadata": {},
   "outputs": [
    {
     "data": {
      "text/plain": [
       "array([[0.5, 1. , 1.5, 0.5, 1.5, 5. ],\n",
       "       [2. , 2.5, 3. , 2. , 2.5, 6. ],\n",
       "       [3.5, 4. , 4.5, 3.5, 4. , 7.5]])"
      ]
     },
     "execution_count": 73,
     "metadata": {},
     "output_type": "execute_result"
    }
   ],
   "source": [
    "np.divide(ar5,2)"
   ]
  }
 ],
 "metadata": {
  "kernelspec": {
   "display_name": "Python 3 (ipykernel)",
   "language": "python",
   "name": "python3"
  },
  "language_info": {
   "codemirror_mode": {
    "name": "ipython",
    "version": 3
   },
   "file_extension": ".py",
   "mimetype": "text/x-python",
   "name": "python",
   "nbconvert_exporter": "python",
   "pygments_lexer": "ipython3",
   "version": "3.12.4"
  }
 },
 "nbformat": 4,
 "nbformat_minor": 5
}
