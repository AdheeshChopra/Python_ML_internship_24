{
 "cells": [
  {
   "cell_type": "code",
   "execution_count": 1,
   "id": "a59ffd33-329e-400c-9dbf-c63b03f20639",
   "metadata": {},
   "outputs": [],
   "source": [
    "import pandas as py\n",
    "Stock={}\n",
    "Records={}"
   ]
  },
  {
   "cell_type": "code",
   "execution_count": 2,
   "id": "a84ae692-cf64-4413-84b2-b8c0d2927d1c",
   "metadata": {},
   "outputs": [
    {
     "name": "stdout",
     "output_type": "stream",
     "text": [
      "________Menu_______\n",
      "1. Add item \n",
      "2. Remove item \n",
      "3. Update item \n",
      "4. Print Stocck \n",
      "5. Exit\n"
     ]
    },
    {
     "name": "stdin",
     "output_type": "stream",
     "text": [
      "Enter your choice 1\n",
      "Enter the Equipment id:  34\n",
      "Enter the Equipment Name:  ee\n",
      "Enter the Equipment Brand:  d\n",
      "Enter the Equipment Total Quantity:  23\n",
      "Enter the Equipment Available Quantity:  12\n"
     ]
    },
    {
     "name": "stdout",
     "output_type": "stream",
     "text": [
      "________Menu_______\n",
      "1. Add item \n",
      "2. Remove item \n",
      "3. Update item \n",
      "4. Print Stocck \n",
      "5. Exit\n"
     ]
    },
    {
     "name": "stdin",
     "output_type": "stream",
     "text": [
      "Enter your choice 4\n"
     ]
    },
    {
     "ename": "NameError",
     "evalue": "name 'pd' is not defined",
     "output_type": "error",
     "traceback": [
      "\u001b[1;31m---------------------------------------------------------------------------\u001b[0m",
      "\u001b[1;31mNameError\u001b[0m                                 Traceback (most recent call last)",
      "Cell \u001b[1;32mIn[2], line 47\u001b[0m\n\u001b[0;32m     45\u001b[0m \u001b[38;5;28;01mcase\u001b[39;00m \u001b[38;5;241m2\u001b[39m: temp\u001b[38;5;241m.\u001b[39mRemove_item()\n\u001b[0;32m     46\u001b[0m \u001b[38;5;28;01mcase\u001b[39;00m \u001b[38;5;241m3\u001b[39m: temp\u001b[38;5;241m.\u001b[39mUpdate_item()\n\u001b[1;32m---> 47\u001b[0m \u001b[38;5;28;01mcase\u001b[39;00m \u001b[38;5;241m4\u001b[39m: temp\u001b[38;5;241m.\u001b[39mprint_stock()\n\u001b[0;32m     48\u001b[0m \u001b[38;5;28;01mcase\u001b[39;00m \u001b[38;5;241m5\u001b[39m: \u001b[38;5;28mprint\u001b[39m(\u001b[38;5;124m\"\u001b[39m\u001b[38;5;124mAll data saved. Existing........ Thank You\u001b[39m\u001b[38;5;124m\"\u001b[39m)\n\u001b[0;32m     49\u001b[0m \u001b[38;5;28;01mcase\u001b[39;00m\u001b[38;5;250m \u001b[39m\u001b[38;5;28;01m_\u001b[39;00m: \u001b[38;5;28mprint\u001b[39m(\u001b[38;5;124m\"\u001b[39m\u001b[38;5;124mWrong Choice\u001b[39m\u001b[38;5;124m\"\u001b[39m)\n",
      "Cell \u001b[1;32mIn[2], line 29\u001b[0m, in \u001b[0;36mEQIP.print_stock\u001b[1;34m(self)\u001b[0m\n\u001b[0;32m     28\u001b[0m \u001b[38;5;28;01mdef\u001b[39;00m \u001b[38;5;21mprint_stock\u001b[39m(\u001b[38;5;28mself\u001b[39m):\n\u001b[1;32m---> 29\u001b[0m     df\u001b[38;5;241m=\u001b[39m\u001b[43mpd\u001b[49m\u001b[38;5;241m.\u001b[39mDataframe(Stock)\n\u001b[0;32m     30\u001b[0m     \u001b[38;5;28mprint\u001b[39m(df)\n",
      "\u001b[1;31mNameError\u001b[0m: name 'pd' is not defined"
     ]
    }
   ],
   "source": [
    "class EQIP:\n",
    "    def __init__(self):\n",
    "        self.Eid=0\n",
    "        self.Ename=' '\n",
    "        self.Ebrand=' '\n",
    "        self.ETqty=0\n",
    "        self.EAqty=0\n",
    "\n",
    "    def Add_item(self):\n",
    "        self.Eid=int(input('Enter the Equipment id: '))\n",
    "        self.Ename=input('Enter the Equipment Name: ')\n",
    "        self.Ebrand=input('Enter the Equipment Brand: ')\n",
    "        self.ETqty=int(input('Enter the Equipment Total Quantity: '))\n",
    "        self.EAqty=int(input('Enter the Equipment Available Quantity: '))\n",
    "        Stock[self.Eid]=list([self.Ename, self.Ebrand, self.ETqty, self.EAqty])\n",
    "\n",
    "    def Remove_item(self):\n",
    "        self.Eid=int(input('Enter the Equipment id: '))\n",
    "        print(Stock(self.Eid))\n",
    "        Stock.pop(self.Eid)\n",
    "\n",
    "    def Update_Item(self):\n",
    "        self.Eid=int(input('Enter the Equipment Id to Update: '))\n",
    "        print(\"Enter input value in negative if want to devrease the item\")\n",
    "        self.Etqty=int(input('Enter the Equipment Quantity to Update: '))\n",
    "        Stock[self.Eid][2]=Stock[self.Eid][2]+self.ETqty\n",
    "\n",
    "    def print_stock(self):\n",
    "        df=pd.Dataframe(Stock)\n",
    "        print(df)\n",
    "\n",
    "if __name__==\"__main__\":\n",
    "    choice=0\n",
    "    temp = EQIP()\n",
    "    while(choice!=5):\n",
    "        print(\"________Menu_______\")\n",
    "        print(\"1. Add item \")\n",
    "        print(\"2. Remove item \")\n",
    "        print(\"3. Update item \")\n",
    "        print(\"4. Print Stocck \")\n",
    "        print(\"5. Exit\")\n",
    "        choice=int(input(\"Enter your choice\"))\n",
    "        match(choice):\n",
    "            case 1: temp.Add_item()\n",
    "            case 2: temp.Remove_item()\n",
    "            case 3: temp.Update_item()\n",
    "            case 4: temp.print_stock()\n",
    "            case 5: print(\"All data saved. Existing........ Thank You\")\n",
    "            case _: print(\"Wrong Choice\")"
   ]
  },
  {
   "cell_type": "code",
   "execution_count": 7,
   "id": "5ca33514-704e-4046-aa48-9bf1911634cb",
   "metadata": {},
   "outputs": [
    {
     "name": "stdin",
     "output_type": "stream",
     "text": [
      "Enter the Equipment id:  12\n",
      "Enter the Equipment Name:  bat\n",
      "Enter the Equipment Brand:  jj\n",
      "Enter the Equipment Total Quantity:  10\n",
      "Enter the Equipment Available Quantity:  9\n"
     ]
    },
    {
     "name": "stdout",
     "output_type": "stream",
     "text": [
      "{12: ['bat', 'jj', 10, 9]}\n"
     ]
    },
    {
     "name": "stdin",
     "output_type": "stream",
     "text": [
      "Enter the Equipment id:  12\n"
     ]
    },
    {
     "ename": "TypeError",
     "evalue": "'dict' object is not callable",
     "output_type": "error",
     "traceback": [
      "\u001b[1;31m---------------------------------------------------------------------------\u001b[0m",
      "\u001b[1;31mTypeError\u001b[0m                                 Traceback (most recent call last)",
      "Cell \u001b[1;32mIn[7], line 5\u001b[0m\n\u001b[0;32m      2\u001b[0m temp\u001b[38;5;241m.\u001b[39mAdd_item()\n\u001b[0;32m      3\u001b[0m \u001b[38;5;28mprint\u001b[39m(Stock)\n\u001b[1;32m----> 5\u001b[0m \u001b[43mtemp\u001b[49m\u001b[38;5;241;43m.\u001b[39;49m\u001b[43mRemove_item\u001b[49m\u001b[43m(\u001b[49m\u001b[43m)\u001b[49m\n\u001b[0;32m      6\u001b[0m \u001b[38;5;28mprint\u001b[39m(Stock)\n",
      "Cell \u001b[1;32mIn[6], line 19\u001b[0m, in \u001b[0;36mEQIP.Remove_item\u001b[1;34m(self)\u001b[0m\n\u001b[0;32m     17\u001b[0m \u001b[38;5;28;01mdef\u001b[39;00m \u001b[38;5;21mRemove_item\u001b[39m(\u001b[38;5;28mself\u001b[39m):\n\u001b[0;32m     18\u001b[0m     \u001b[38;5;28mself\u001b[39m\u001b[38;5;241m.\u001b[39mEid\u001b[38;5;241m=\u001b[39m\u001b[38;5;28mint\u001b[39m(\u001b[38;5;28minput\u001b[39m(\u001b[38;5;124m'\u001b[39m\u001b[38;5;124mEnter the Equipment id: \u001b[39m\u001b[38;5;124m'\u001b[39m))\n\u001b[1;32m---> 19\u001b[0m     \u001b[38;5;28mprint\u001b[39m(\u001b[43mStock\u001b[49m\u001b[43m(\u001b[49m\u001b[38;5;28;43mself\u001b[39;49m\u001b[38;5;241;43m.\u001b[39;49m\u001b[43mEid\u001b[49m\u001b[43m)\u001b[49m)\n\u001b[0;32m     20\u001b[0m     Stock\u001b[38;5;241m.\u001b[39mpop(\u001b[38;5;28mself\u001b[39m\u001b[38;5;241m.\u001b[39mEid)\n",
      "\u001b[1;31mTypeError\u001b[0m: 'dict' object is not callable"
     ]
    }
   ],
   "source": [
    "temp = EQIP()\n",
    "temp.Add_item()\n",
    "print(Stock)\n",
    "\n",
    "temp.Remove_item()\n",
    "print(Stock)\n",
    "\n",
    "Stock"
   ]
  },
  {
   "cell_type": "code",
   "execution_count": null,
   "id": "0c164184-3297-40dc-a2d7-261892ff87ea",
   "metadata": {},
   "outputs": [],
   "source": [
    "class Records:\n",
    "    def __init__(self):\n",
    "        self.name=\"\"\n",
    "        self.ID=0\n",
    "        self.Eid=0\n",
    "        self.Ename=\"\"\n",
    "        self.status=\"\"\n",
    "        self.condition=\"\"\n",
    "\n",
    "    def rent_Equip(self):\n",
    "        self.name=input(\"Enter your name: \")\n",
    "        sef.ID=int(input(\"Enter your ID: \"))\n",
    "        self.Eid=int(input(\"Enter Equipment ID of item you are renting: \"))\n",
    "        self.Ename=Stock[self.Eid] [0]\n",
    "        self.status=\"Rented\"\n",
    "        self.Condition=\"Good\"\n",
    "        Records[self.ID]=list([self.name, self.Eid,self.Ename, self.status,self.Condition])\n",
    "\n",
    "    def return_Equip(self):\n",
    "        self.ID=int(input(\"Enter your ID: \"))\n",
    "        print(\"Member ID = \", self.ID)\n",
    "        print(\"Member Name = \", Records[self.Eid][0])\n",
    "        print(\"Equipment ID = \", Records[self.Eid][1])\n",
    "        print(\"Equipment Name = \", Records[self.Eid][2])\n",
    "        print(\"Status = \", Records[self.Eid][3])\n",
    "        print(\"Condition = \", Records[self.Eid][4])\n",
    "        self.Condition=input(\"Enter the returned Condition: \")\n",
    "        self.status=\"Returned\"\n",
    "        Records[self.Eid][3]=self.status\n",
    "        Records[self.Eid][4]=self.Condition\n",
    "\n",
    "    def print_Records(self):\n",
    "        "
   ]
  },
  {
   "cell_type": "code",
   "execution_count": null,
   "id": "8efa4890-0693-4980-8bea-af0d91bfec10",
   "metadata": {},
   "outputs": [],
   "source": [
    "if __name__==\"__main__\":\n",
    "    choice=0\n",
    "    temp = EQIP()\n",
    "    while(choice!=5):\n",
    "        print(\"________Menu_______\")\n",
    "        print(\"1. Add item \")\n",
    "        print(\"2. Remove item \")\n",
    "        print(\"3. Update item \")\n",
    "        print(\"4. Print Stocck \")\n",
    "        print(\"5. Exit\")\n",
    "        choice=int(input(\"Enter your choice\"))\n",
    "        match(choice):\n",
    "            case 1: temp.Add_item()\n",
    "            case 2: temp.Remove_item()\n",
    "            case 3: temp.Update_item()\n",
    "            case 4: temp.print_stock()\n",
    "            case 5: print(\"All data saved. Existing........ Thank You\")\n",
    "            case _: print(\"Wrong Choice\")"
   ]
  }
 ],
 "metadata": {
  "kernelspec": {
   "display_name": "Python 3 (ipykernel)",
   "language": "python",
   "name": "python3"
  },
  "language_info": {
   "codemirror_mode": {
    "name": "ipython",
    "version": 3
   },
   "file_extension": ".py",
   "mimetype": "text/x-python",
   "name": "python",
   "nbconvert_exporter": "python",
   "pygments_lexer": "ipython3",
   "version": "3.12.4"
  }
 },
 "nbformat": 4,
 "nbformat_minor": 5
}
